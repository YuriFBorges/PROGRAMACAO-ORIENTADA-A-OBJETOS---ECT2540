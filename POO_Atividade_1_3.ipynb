{
  "nbformat": 4,
  "nbformat_minor": 0,
  "metadata": {
    "colab": {
      "provenance": [],
      "authorship_tag": "ABX9TyNLESumEBtboC8ia1TWK9/q",
      "include_colab_link": true
    },
    "kernelspec": {
      "name": "python3",
      "display_name": "Python 3"
    },
    "language_info": {
      "name": "python"
    }
  },
  "cells": [
    {
      "cell_type": "markdown",
      "metadata": {
        "id": "view-in-github",
        "colab_type": "text"
      },
      "source": [
        "<a href=\"https://colab.research.google.com/github/YuriFBorges/PROGRAMACAO-ORIENTADA-A-OBJETOS---ECT2540/blob/main/POO_Atividade_1_3.ipynb\" target=\"_parent\"><img src=\"https://colab.research.google.com/assets/colab-badge.svg\" alt=\"Open In Colab\"/></a>"
      ]
    },
    {
      "cell_type": "code",
      "execution_count": 29,
      "metadata": {
        "colab": {
          "base_uri": "https://localhost:8080/"
        },
        "id": "wsvXcKMpWB8z",
        "outputId": "ea6abbe3-7df8-418c-e25a-bc888c67cf52"
      },
      "outputs": [
        {
          "output_type": "stream",
          "name": "stdout",
          "text": [
            "Máquina abastecida: 5 unidades de coca\n",
            "Máquina abastecida: 5 unidades de sprite\n",
            "Máquina abastecida: 1 unidades de fanta\n",
            ">>> Imprimindo estoque:\n",
            "coca: 5 unidades disponíveis\n",
            "sprite: 5 unidades disponíveis\n",
            "fanta: 1 unidades disponíveis\n",
            "Valor: R$8\n",
            "Produto coca zero não disponível nesta máquina\n",
            "Venda realizada: produto fanta\n",
            "Produto fanta sem estoque\n",
            "Venda realizada: produto coca\n",
            "Venda realizada: produto sprite\n",
            "Venda realizada: produto coca\n",
            "Venda realizada: produto coca\n",
            "Venda realizada: produto coca\n",
            "Venda realizada: produto sprite\n",
            ">>> Imprimindo vendas realizadas:\n",
            "fanta: 1 unidades vendidas\n",
            "coca: 4 unidades vendidas\n",
            "sprite: 2 unidades vendidas\n",
            "Produto mais vendido: coca\n",
            "Total vendido: R$56\n"
          ]
        }
      ],
      "source": [
        "class MaquinaRefrigerante:\n",
        "    def __init__(self, preco):\n",
        "        self.__preco = preco\n",
        "        self.__estoque = {}\n",
        "        self.__vendas = {}\n",
        "\n",
        "    def abastece(self, prod, quant):\n",
        "        if prod in self.__estoque:\n",
        "            self.__estoque[prod] += quant\n",
        "        else:\n",
        "            self.__estoque[prod] = quant\n",
        "        print(f\"Máquina abastecida: {self.__estoque[prod]} unidades de {prod}\")\n",
        "\n",
        "    def vende(self, prod):\n",
        "      if prod in self.__estoque:\n",
        "          if self.__estoque[prod] > 0:\n",
        "              print(f\"Venda realizada: produto {prod}\")\n",
        "              self.__estoque[prod] -= 1\n",
        "              if prod in self.__vendas:\n",
        "                  self.__vendas[prod] += 1\n",
        "              else:\n",
        "                  self.__vendas[prod] = 1\n",
        "          else:\n",
        "              print(f\"Produto {prod} sem estoque\")\n",
        "      else:\n",
        "        print(f\"Produto {prod} não disponível nesta máquina\")\n",
        "\n",
        "    def imprime_estoque(self):\n",
        "      print(\">>> Imprimindo estoque:\")\n",
        "      for prod, quant in self.__estoque.items():\n",
        "          print(f\"{prod}: {quant} unidades disponíveis\")\n",
        "          \n",
        "      print(f\"Valor: R${self.__preco}\")\n",
        "\n",
        "    def imprime_vendas(self):\n",
        "      print(\">>> Imprimindo vendas realizadas:\")\n",
        "      if self.__vendas:\n",
        "          mais_vendido = max(self.__vendas, key=self.__vendas.get)\n",
        "          total_vendido = sum(self.__vendas.values()) * self.__preco\n",
        "          for prod, quant in self.__vendas.items():\n",
        "            print(f\"{prod}: {quant} unidades vendidas\")\n",
        "      else:\n",
        "        print(\"Nenhuma venda realizada.\")\n",
        "\n",
        "      print(f\"Produto mais vendido: {mais_vendido}\")\n",
        "      print(f\"Total vendido: R${total_vendido}\")\n",
        "\n",
        "def main():\n",
        "    m = MaquinaRefrigerante(8)\n",
        "\n",
        "    m.abastece('coca', 5)\n",
        "    m.abastece('sprite', 5)\n",
        "    m.abastece('fanta', 1)\n",
        "\n",
        "    m.imprime_estoque()\n",
        "\n",
        "    m.vende('coca zero')\n",
        "    m.vende('fanta')\n",
        "    m.vende('fanta')\n",
        "    m.vende('coca')\n",
        "    m.vende('sprite')\n",
        "    m.vende('coca')\n",
        "    m.vende('coca')\n",
        "    m.vende('coca')\n",
        "    m.vende('sprite')\n",
        "\n",
        "    m.imprime_vendas()\n",
        "\n",
        "if __name__ == '__main__':\n",
        "    main()\n"
      ]
    }
  ]
}